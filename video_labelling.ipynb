{
  "cells": [
    {
      "cell_type": "markdown",
      "metadata": {
        "id": "jVu_m9AfjJW9"
      },
      "source": [
        "The Python SDK for the Gemini API is contained in the google-generativeai package. Install the dependency using pip:"
      ]
    },
    {
      "cell_type": "code",
      "execution_count": null,
      "metadata": {
        "id": "s7HKjOVsi-uf"
      },
      "outputs": [],
      "source": [
        "!pip install -q -U google-generativeai"
      ]
    },
    {
      "cell_type": "markdown",
      "metadata": {
        "id": "7kSQrANqjwLJ"
      },
      "source": [
        "Set up API Key"
      ]
    },
    {
      "cell_type": "code",
      "execution_count": null,
      "metadata": {
        "id": "9bQaTu43jjJP"
      },
      "outputs": [],
      "source": [
        "import os\n",
        "os.environ[\"API_KEY\"] = \"\"\n"
      ]
    },
    {
      "cell_type": "code",
      "execution_count": null,
      "metadata": {
        "id": "pXfrnSuNjIlM"
      },
      "outputs": [],
      "source": [
        "import google.generativeai as genai\n",
        "\n",
        "genai.configure(api_key=os.environ[\"API_KEY\"])"
      ]
    },
    {
      "cell_type": "code",
      "execution_count": null,
      "metadata": {
        "id": "yWzhz1x7z-jS"
      },
      "outputs": [],
      "source": [
        "from google.generativeai.types import HarmCategory, HarmBlockThreshold\n",
        "from json import loads,dumps\n",
        "import time\n",
        "from glob import glob"
      ]
    },
    {
      "cell_type": "code",
      "execution_count": null,
      "metadata": {
        "id": "9JQmRvPf101s"
      },
      "outputs": [],
      "source": [
        "import typing_extensions as typing\n",
        "\n",
        "### here we are defining a JSON schema, because we want our output in a specific format, feel free to change this\n",
        "class LLM_Output(typing.TypedDict):\n",
        "    label: str\n",
        "    language: list[str]\n",
        "    response: str"
      ]
    },
    {
      "cell_type": "markdown",
      "metadata": {
        "id": "uHM1Lj1_jzV8"
      },
      "source": [
        "Initializing model (need to do re-initialize everytime you change API Key)"
      ]
    },
    {
      "cell_type": "code",
      "execution_count": null,
      "metadata": {
        "id": "r4JrbQ-Wj40_"
      },
      "outputs": [],
      "source": [
        "model_config = {\n",
        "  \"temperature\": 0,\n",
        "}\n",
        "\n",
        "model = genai.GenerativeModel(\"gemini-1.5-flash\",\n",
        "                              system_instruction=\"You are an expert content moderator.\", generation_config=model_config)\n",
        "\n",
        "\n"
      ]
    },
    {
      "cell_type": "code",
      "execution_count": null,
      "metadata": {
        "id": "QiFpaPhH28aD"
      },
      "outputs": [],
      "source": [
        "# Create the prompt.\n",
        "prompt = \"\"\"\n",
        "    A piece of content is child-directed if it meets any of these criteria:\n",
        "\n",
        "    Designed for Children:\n",
        "\n",
        "    The content is explicitly created with children as the intended audience, such as educational videos for kids, children’s games, or storytelling aimed at young viewers.\n",
        "    Child-Appealing Elements:\n",
        "\n",
        "    The content includes features commonly enjoyed by children, such as:\n",
        "    Animated characters, playful animals, family-friendly heroes, or simple adventures.\n",
        "    Light-hearted portrayals of themes like mischief or conflict, but without mature visuals, strong language, or adult humor.\n",
        "    Exclusions:\n",
        "\n",
        "    Songs: Only label as child-directed if the song is a nursery rhyme or poem that is specifically created for children.\n",
        "    Recipe, DIY, or Instructional Videos: Do not label as child-directed unless clearly simplified for children, like “Easy Cooking for Kids.”\n",
        "\n",
        "    These are not child directed:\n",
        "    videos with religious content\n",
        "    videos with romantic themes including adults\n",
        "    songs that are not nursery rhymes or poems\n",
        "\n",
        "\n",
        "    Instructions\n",
        "    Labeling:\n",
        "    If the video meets the child-directed criteria label it as \"true\".\n",
        "    If it does not meet these criteria label it as \"false\".\n",
        "\n",
        "    Indicate the spoken language if any.\n",
        "    Provide a brief justification explaining why the video is considered child-directed or not.\n",
        "\n",
        "    Format the output in JSON.\n",
        "  \"\"\""
      ]
    },
    {
      "cell_type": "markdown",
      "metadata": {
        "id": "fLVMXImI0e7e"
      },
      "source": [
        "Run for sample of videos"
      ]
    },
    {
      "cell_type": "code",
      "execution_count": null,
      "metadata": {
        "colab": {
          "base_uri": "https://localhost:8080/"
        },
        "id": "8ZvJz8VvZMXP",
        "outputId": "eee810a6-0c32-46a3-e5f0-48f763209047"
      },
      "outputs": [],
      "source": [
        "video_ids = [\n",
        "\n",
        "    ] #list of video ids\n",
        "redo_ids = [\n",
        "\n",
        "] #video ids for which there was an error\n",
        "\n",
        "print(len(video_ids))"
      ]
    },
    {
      "cell_type": "code",
      "execution_count": null,
      "metadata": {
        "colab": {
          "base_uri": "https://localhost:8080/"
        },
        "id": "OIHg2v_xZp0e",
        "outputId": "a3b3805a-10b0-45eb-e553-a1d1784d8fb4"
      },
      "outputs": [],
      "source": [
        "from google.colab import drive\n",
        "drive.mount('/content/drive')"
      ]
    },
    {
      "cell_type": "code",
      "execution_count": null,
      "metadata": {
        "colab": {
          "base_uri": "https://localhost:8080/",
          "height": 1000
        },
        "id": "xei6b6GVv6lG",
        "outputId": "68350f6e-68bc-45da-d6da-9d03e248fb8d"
      },
      "outputs": [],
      "source": [
        "for i,v in enumerate(video_ids):\n",
        "\n",
        "  ### change this folder path to the child-directed videos you are using\n",
        "  ## e.g. folder_path = f\"/content/drive/MyDrive/Safe Online Global/video-ads/{v}\"\n",
        "\n",
        "  folder_path =  f\"/content/drive/MyDrive/non-madeForKids/{v}\"\n",
        "\n",
        "  if not os.path.exists(folder_path):\n",
        "    print(\"Could not find folder for id:\",v)\n",
        "  else:\n",
        "\n",
        "      video_mp4 = glob(f\"{folder_path}/*.mp4\") ## this line of code finds all the files in the folder path that have .mp4 extension\n",
        "      audio_mp3 = glob(f\"{folder_path}/*.mp3\") ## this line of code finds all the files in the folder path that have .mp3 extension\n",
        "\n",
        "      if len(video_mp4) == 0 or len(audio_mp3)==0:\n",
        "        print(\"Could not find video/audio for id:\",v)\n",
        "      else:\n",
        "        path_to_video = video_mp4[0] ## since we only have 1 video and 1 audio, just taking whatever is at the first index\n",
        "        path_to_audio = audio_mp3[0]\n",
        "\n",
        "        for attempt in range(5):\n",
        "          try:\n",
        "            ## upload video\n",
        "            print(f\"Uploading file...\")\n",
        "            video_file = genai.upload_file(path=path_to_video)\n",
        "            print(f\"Completed upload: {video_file.uri}\")\n",
        "            break\n",
        "\n",
        "          except Exception as e:\n",
        "              print(f\"Upload video failed with error {e}. Retrying in {5} seconds...\")\n",
        "              time.sleep(5)\n",
        "\n",
        "        for attempt in range(5):\n",
        "          try:\n",
        "            ## upload audio\n",
        "            print(f\"Uploading file...\")\n",
        "            audio_file = genai.upload_file(path=path_to_audio)\n",
        "            print(f\"Completed upload: {audio_file.uri}\")\n",
        "            break\n",
        "\n",
        "          except Exception as e:\n",
        "              print(f\"Upload audio failed with error {e}. Retrying in {5} seconds...\")\n",
        "              time.sleep(5)\n",
        "\n",
        "\n",
        "        ## check if video has uploaded - wait for it to upload\n",
        "        while video_file.state.name == \"PROCESSING\":\n",
        "          print('.', end='')\n",
        "          time.sleep(10)\n",
        "          video_file = genai.get_file(video_file.name)\n",
        "\n",
        "        if video_file.state.name == \"FAILED\":\n",
        "          raise ValueError(video_file.state.name)\n",
        "\n",
        "        ################################################# make inference #################################################\n",
        "        print(\"Making LLM inference request...\")\n",
        "\n",
        "\n",
        "        ## we pass in the audio file, video file and the prompt to the model\n",
        "        ## we also change some settings by adjusting the configuration\n",
        "        ## 1) we want output in JSON so we specify: response_mime_type=\"application/json\"\n",
        "        ## 2) we want the output in a specific JSON format/schema (so we know exactly what the keys are so we specific: response_schema=LLM_Output\n",
        "        ## 3) because we want to generate descriptions/justifications of why a certain video is inappropriate, we removed the safety settings/put the threshold to NONE otherwise the LLM refrains from outputting content that is harmful\n",
        "\n",
        "        response = model.generate_content([audio_file,video_file, prompt],\n",
        "                                    generation_config=genai.GenerationConfig(\n",
        "                                        response_mime_type=\"application/json\", response_schema=LLM_Output),\n",
        "\n",
        "                                    safety_settings={\n",
        "          HarmCategory.HARM_CATEGORY_HATE_SPEECH: HarmBlockThreshold.BLOCK_NONE,\n",
        "          HarmCategory.HARM_CATEGORY_HARASSMENT: HarmBlockThreshold.BLOCK_NONE,\n",
        "          HarmCategory.HARM_CATEGORY_SEXUALLY_EXPLICIT: HarmBlockThreshold.BLOCK_NONE,\n",
        "          HarmCategory.HARM_CATEGORY_DANGEROUS_CONTENT: HarmBlockThreshold.BLOCK_NONE\n",
        "      })\n",
        "\n",
        "\n",
        "        # print(response.text)\n",
        "\n",
        "        ########################### save each output as a json file #################################################\n",
        "\n",
        "        ### path where we will save, change this to whicherver folder you want to save outputs in\n",
        "        ## e.g. path_to_save_json = f'/content/drive/MyDrive/Safe Online Global/gemini-trial-output/few-shot/{v}.json'\n",
        "        path_to_save_json =  f'/content/drive/MyDrive/non-madeForKids_results/{v}.json'\n",
        "\n",
        "        try:\n",
        "          with open(path_to_save_json, 'w') as f:\n",
        "            f.write(response.text)\n",
        "        except:\n",
        "          print(\"Could not save file for id:\",v)\n",
        "          redo_ids.append(v)\n",
        "\n",
        "        ## Completed message\n",
        "        print(\"Completed for video number:\",i)\n",
        "\n",
        "        ## wait a bit to avoid exceeding rate\n",
        "        time.sleep(12)\n",
        "\n",
        "\n",
        "\n",
        "\n",
        "\n"
      ]
    },
    {
      "cell_type": "code",
      "execution_count": null,
      "metadata": {
        "colab": {
          "base_uri": "https://localhost:8080/"
        },
        "id": "d6zEL8ooHREG",
        "outputId": "2bb97af9-caf6-49c3-8fba-ad4b7dc808df"
      },
      "outputs": [],
      "source": [
        "import os\n",
        "import json\n",
        "import csv\n",
        "\n",
        "# Folder path containing JSON files\n",
        "folder_path = f'/content/drive/MyDrive/non-madeForKids_results/'\n",
        "\n",
        "# CSV file to store results\n",
        "output_csv =  f'/content/drive/MyDrive/non-madeForKids_total.csv'\n",
        "\n",
        "os.makedirs(os.path.dirname(output_csv), exist_ok=True)\n",
        "\n",
        "# Open the CSV file for writing\n",
        "with open(output_csv, mode='w', newline='', encoding='utf-8') as csv_file:\n",
        "    writer = csv.writer(csv_file)\n",
        "    writer.writerow(['ID', 'Label', 'Language'])  # Write the header\n",
        "\n",
        "    # Loop through each file in the folder\n",
        "    for filename in os.listdir(folder_path):\n",
        "        if filename.endswith('.json'):\n",
        "            # Extract ID from the filename (remove the .json extension)\n",
        "            id_value = os.path.splitext(filename)[0]\n",
        "\n",
        "            # Construct full file path\n",
        "            file_path = os.path.join(folder_path, filename)\n",
        "            print(file_path)\n",
        "            # Open and read the JSON file\n",
        "            with open(file_path, 'r', encoding='utf-8') as json_file:\n",
        "                data = json.load(json_file)\n",
        "\n",
        "                # Extract 'Label' from the JSON data\n",
        "                label_value = data.get('label', None)\n",
        "\n",
        "                language_value = data.get('language', None)\n",
        "\n",
        "                # Write the ID and Label to the CSV file if Label exists\n",
        "                if label_value is not None:\n",
        "                    writer.writerow([id_value, label_value, language_value])"
      ]
    },
    {
      "cell_type": "code",
      "execution_count": null,
      "metadata": {
        "colab": {
          "base_uri": "https://localhost:8080/",
          "height": 797
        },
        "id": "gwwQKUg_Niho",
        "outputId": "78a8cbd9-93c0-430b-e749-5cdee024ecd5"
      },
      "outputs": [],
      "source": [
        "import pandas as pd\n",
        "import seaborn as sns\n",
        "import matplotlib.pyplot as plt\n",
        "from sklearn.metrics import classification_report, confusion_matrix\n",
        "\n",
        "data = pd.read_csv(f'/content/drive/MyDrive/total.csv'\n",
        ")\n",
        "\n",
        "# Extract labels and ground truth values\n",
        "y_true = data['Ground Truth']\n",
        "y_pred = data['Label']\n",
        "\n",
        "# Generate and display classification report\n",
        "report = classification_report(y_true, y_pred, output_dict=True)\n",
        "print(classification_report(y_true, y_pred))\n",
        "report_df = pd.DataFrame(report).transpose()\n",
        "\n",
        "# Plot heatmap for confusion matrix\n",
        "conf_matrix = confusion_matrix(y_true, y_pred)\n",
        "plt.figure(figsize=(10, 7))\n",
        "sns.heatmap(conf_matrix, annot=True, fmt=\"d\", cmap=\"Blues\", xticklabels=report_df.index[:-3], yticklabels=report_df.index[:-3])\n",
        "plt.xlabel('Predicted Labels')\n",
        "plt.ylabel('True Labels')\n",
        "plt.title('Confusion Matrix Heatmap')\n",
        "plt.show()"
      ]
    }
  ],
  "metadata": {
    "colab": {
      "provenance": []
    },
    "kernelspec": {
      "display_name": "Python 3",
      "name": "python3"
    },
    "language_info": {
      "name": "python"
    }
  },
  "nbformat": 4,
  "nbformat_minor": 0
}
