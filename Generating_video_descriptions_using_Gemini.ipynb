{
  "cells": [
    {
      "cell_type": "markdown",
      "metadata": {
        "id": "9hYeNCZbU4et"
      },
      "source": [
        "# Set up\n"
      ]
    },
    {
      "cell_type": "markdown",
      "metadata": {
        "id": "jVu_m9AfjJW9"
      },
      "source": [
        "The Python SDK for the Gemini API is contained in the google-generativeai package. Install the dependency using pip:"
      ]
    },
    {
      "cell_type": "code",
      "execution_count": null,
      "metadata": {
        "colab": {
          "base_uri": "https://localhost:8080/"
        },
        "id": "s7HKjOVsi-uf",
        "outputId": "d2e78189-fa4e-41da-f3aa-5c257b29cfc3"
      },
      "outputs": [
        {
          "output_type": "stream",
          "name": "stdout",
          "text": [
            "\u001b[2K   \u001b[90m━━━━━━━━━━━━━━━━━━━━━━━━━━━━━━━━━━━━━━━━\u001b[0m \u001b[32m160.8/160.8 kB\u001b[0m \u001b[31m2.7 MB/s\u001b[0m eta \u001b[36m0:00:00\u001b[0m\n",
            "\u001b[2K   \u001b[90m━━━━━━━━━━━━━━━━━━━━━━━━━━━━━━━━━━━━━━━━\u001b[0m \u001b[32m760.0/760.0 kB\u001b[0m \u001b[31m15.4 MB/s\u001b[0m eta \u001b[36m0:00:00\u001b[0m\n",
            "\u001b[?25h"
          ]
        }
      ],
      "source": [
        "!pip install -q -U google-generativeai"
      ]
    },
    {
      "cell_type": "markdown",
      "metadata": {
        "id": "7kSQrANqjwLJ"
      },
      "source": [
        "Imports"
      ]
    },
    {
      "cell_type": "code",
      "execution_count": null,
      "metadata": {
        "id": "9bQaTu43jjJP"
      },
      "outputs": [],
      "source": [
        "import os\n",
        "import pandas as pd\n",
        "import google.generativeai as genai\n",
        "from google.generativeai.types import HarmCategory, HarmBlockThreshold\n",
        "from json import loads,dumps\n",
        "import time\n",
        "from glob import glob\n",
        "import json\n",
        "import pandas as pd\n"
      ]
    },
    {
      "cell_type": "markdown",
      "metadata": {
        "id": "CMbr8vFp61lK"
      },
      "source": [
        "Set API Key"
      ]
    },
    {
      "cell_type": "code",
      "execution_count": null,
      "metadata": {
        "id": "pXfrnSuNjIlM"
      },
      "outputs": [],
      "source": [
        "os.environ[\"API_KEY\"] = \"\"\n",
        "genai.configure(api_key=os.environ[\"API_KEY\"])"
      ]
    },
    {
      "cell_type": "markdown",
      "metadata": {
        "id": "u9HPMwUlAZrq"
      },
      "source": [
        "Mount google drive"
      ]
    },
    {
      "cell_type": "code",
      "execution_count": null,
      "metadata": {
        "id": "362DjZC4AU-R",
        "colab": {
          "base_uri": "https://localhost:8080/"
        },
        "outputId": "573fc7f0-8ad7-46c7-f950-4b4111929f7b"
      },
      "outputs": [
        {
          "output_type": "stream",
          "name": "stdout",
          "text": [
            "Mounted at /content/drive\n"
          ]
        }
      ],
      "source": [
        "from google.colab import drive\n",
        "drive.mount('/content/drive')"
      ]
    },
    {
      "cell_type": "markdown",
      "metadata": {
        "id": "P7_XLhb766fv"
      },
      "source": [
        "# Initialize the model"
      ]
    },
    {
      "cell_type": "code",
      "execution_count": null,
      "metadata": {
        "id": "M8kMb4Lq0adk"
      },
      "outputs": [],
      "source": [
        "## We use Gemini 1.5 flash\n",
        "## Lightweight, fast, efficient - for tasks where latency + speed is important\n",
        "\n",
        "model = genai.GenerativeModel(model_name=\"gemini-1.5-flash\",\n",
        "                              system_instruction = \"You are a helpful video description generator for human content moderators.\")"
      ]
    },
    {
      "cell_type": "code",
      "execution_count": null,
      "metadata": {
        "id": "noCiR1AX19C3"
      },
      "outputs": [],
      "source": [
        "# Define the prompt\n",
        "prompt = \"\"\"\n",
        "\n",
        "Please provide a thorough description of this video provided along with it’s audio that captures all elements relevant for content moderation. Focus on the aspects outlined in the <guidelines> tag:\n",
        "\n",
        "<guidelines>\n",
        "VISUAL CONTENT:\n",
        "1. Setting and Context\n",
        "- Where does the video take place?\n",
        "- What is the overall environment/atmosphere?\n",
        "- Is it animated, live-action, or mixed media?\n",
        "2. Characters/People\n",
        "- Who appears in the video?\n",
        "- Approximate age ranges of people shown\n",
        "- How are they dressed?\n",
        "- What are their behaviors and interactions?\n",
        "3. Actions and Events\n",
        "- What main activities occur?\n",
        "- Are there any sudden changes in action or tone?\n",
        "- Describe any concerning physical activities or stunts\n",
        "- Note any visual effects or editing techniques\n",
        "\n",
        "AUDIO CONTENT:\n",
        "1. Speech\n",
        "- What language(s) are spoken?\n",
        "- Summarize key dialogue or conversations\n",
        "- Note tone of voice (angry, friendly, threatening, etc.)\n",
        "- Document any concerning language or terms used\n",
        "2. Sound Effects and Music\n",
        "- Background music type and mood\n",
        "- Notable sound effects\n",
        "- Volume levels and sudden audio changes\n",
        "\n",
        "TIMELINE:\n",
        "- Provide timestamps for significant events or changes in content\n",
        "- Note duration of concerning content if present\n",
        "\n",
        "ADDITIONAL ELEMENTS:\n",
        "- Presence of text overlays or captions\n",
        "- Brand names or commercial content\n",
        "- Any symbols, gestures, or references that need context\n",
        "- Technical aspects (video quality, editing style)\n",
        "<guidelines>\n",
        "\n",
        "Please be objective and detailed in your description, avoiding subjective interpretations. Include any elements that might affect content moderation decisions, even if they seem minor.\n",
        "Format your given in the <formatting> tags:\n",
        "\n",
        "<formatting>\n",
        "VIDEO DURATION: [specify total length]\n",
        "\n",
        "GENERAL OVERVIEW: [2-3 sentences summarizing the video]\n",
        "\n",
        "DETAILED TIMELINE:\n",
        "[00:00-00:00] - [Description of what happens in this segment]\n",
        "[00:00-00:00] - [Continue for each major segment]\n",
        "\n",
        "AUDIO DESCRIPTION: [Detailed description of audio elements]\n",
        "\n",
        "NOTABLE ELEMENTS:\n",
        "- [List any specific elements requiring attention]\n",
        "- [List and describe the themes of the video]\n",
        "\n",
        "TECHNICAL NOTES:\n",
        "[Any relevant technical aspects of the video]\n",
        "<formatting>\n",
        "\n",
        "  \"\"\""
      ]
    },
    {
      "cell_type": "markdown",
      "metadata": {
        "id": "lUYo6QpR79kK"
      },
      "source": [
        "# List of video ids"
      ]
    },
    {
      "cell_type": "code",
      "execution_count": null,
      "metadata": {
        "id": "io1m0qRcBQPV"
      },
      "outputs": [],
      "source": [
        "## put the video ids here\n",
        "video_ids = [\"BHLVY4NNF6A\", \"oWCK5j_XNbQ\", \"B1z2h_tZZq0\", \"IFJpD1Z73ac\", \"mxrZqIA4660\",\n",
        "    \"evRZzTpdX0E\", \"q41N_5Yy_-E\", \"DoOweIO2Czc\", \"2ORtf3b2NJU\", \"tYKduNKGmUI\",\n",
        "    \"q-NVK13mzcA\", \"qWFcB3ZqYpQ\", \"CrM0k0bJ73Q\", \"BqQRPRNRZ3U\", \"iU2rMRZcn1U\",\n",
        "    \"M880b1yqy4s\", \"MA4I7SwfLEQ\", \"slniKxBEVSA\", \"zz1xcDrqplM\", \"Lrgk65yn3d8\",\n",
        "    \"zLE2AdYO0M4\"]"
      ]
    },
    {
      "cell_type": "markdown",
      "metadata": {
        "id": "f3eYsx6K8H5E"
      },
      "source": [
        "# Running for all video ids"
      ]
    },
    {
      "cell_type": "code",
      "execution_count": null,
      "metadata": {
        "id": "azQgC1038KSQ",
        "colab": {
          "base_uri": "https://localhost:8080/",
          "height": 1000
        },
        "outputId": "9f4fef46-62c4-4ce4-9ee8-26e4d744588f"
      },
      "outputs": [
        {
          "output_type": "stream",
          "name": "stdout",
          "text": [
            "Uploading file...\n",
            "Completed upload: https://generativelanguage.googleapis.com/v1beta/files/k7igutthesov\n",
            "Uploading file...\n",
            "Completed upload: https://generativelanguage.googleapis.com/v1beta/files/l8zp4shluarb\n",
            ".Making LLM inference request...\n",
            "Completed for video number: 0\n",
            "Uploading file...\n",
            "Completed upload: https://generativelanguage.googleapis.com/v1beta/files/ey0wkyhi0tie\n",
            "Uploading file...\n",
            "Completed upload: https://generativelanguage.googleapis.com/v1beta/files/fu6j940nwq8g\n",
            ".Making LLM inference request...\n",
            "No candidates returned for id: oWCK5j_XNbQ. Skipping.\n",
            "Uploading file...\n",
            "Completed upload: https://generativelanguage.googleapis.com/v1beta/files/as4n2z5fghf2\n",
            "Uploading file...\n",
            "Completed upload: https://generativelanguage.googleapis.com/v1beta/files/21fw5vxomilm\n",
            ".Making LLM inference request...\n",
            "Completed for video number: 2\n",
            "Uploading file...\n",
            "Completed upload: https://generativelanguage.googleapis.com/v1beta/files/zwq46bibdufv\n",
            "Uploading file...\n",
            "Completed upload: https://generativelanguage.googleapis.com/v1beta/files/rhteitwqgam5\n",
            ".Making LLM inference request...\n",
            "Completed for video number: 3\n",
            "Uploading file...\n",
            "Completed upload: https://generativelanguage.googleapis.com/v1beta/files/jas2vxr3zw3m\n",
            "Uploading file...\n",
            "Completed upload: https://generativelanguage.googleapis.com/v1beta/files/4vb3deyy4swk\n",
            ".Making LLM inference request...\n",
            "Completed for video number: 4\n",
            "Uploading file...\n",
            "Completed upload: https://generativelanguage.googleapis.com/v1beta/files/mu9866qfkkru\n",
            "Uploading file...\n",
            "Completed upload: https://generativelanguage.googleapis.com/v1beta/files/zaz6i0pxq0mn\n",
            ".Making LLM inference request...\n",
            "Completed for video number: 5\n",
            "Uploading file...\n",
            "Completed upload: https://generativelanguage.googleapis.com/v1beta/files/7a00oewxaoz4\n",
            "Uploading file...\n",
            "Completed upload: https://generativelanguage.googleapis.com/v1beta/files/ietxpqk61x3k\n",
            ".Making LLM inference request...\n",
            "Completed for video number: 6\n",
            "Uploading file...\n",
            "Completed upload: https://generativelanguage.googleapis.com/v1beta/files/nt9x5p47gfvj\n",
            "Uploading file...\n",
            "Completed upload: https://generativelanguage.googleapis.com/v1beta/files/m3oq1bp89aid\n",
            ".Making LLM inference request...\n",
            "Completed for video number: 7\n",
            "Uploading file...\n",
            "Completed upload: https://generativelanguage.googleapis.com/v1beta/files/1lvve9st7yje\n",
            "Uploading file...\n",
            "Completed upload: https://generativelanguage.googleapis.com/v1beta/files/98o0saj86cb2\n",
            ".Making LLM inference request...\n",
            "Completed for video number: 8\n",
            "Uploading file...\n",
            "Completed upload: https://generativelanguage.googleapis.com/v1beta/files/hh0zubmbz9nu\n",
            "Uploading file...\n",
            "Completed upload: https://generativelanguage.googleapis.com/v1beta/files/z12xdugg3nwt\n",
            ".....Making LLM inference request...\n",
            "Completed for video number: 9\n",
            "Uploading file...\n",
            "Completed upload: https://generativelanguage.googleapis.com/v1beta/files/egd831svku4y\n",
            "Uploading file...\n",
            "Completed upload: https://generativelanguage.googleapis.com/v1beta/files/zzjwt82huwn6\n",
            ".Making LLM inference request...\n",
            "Completed for video number: 10\n",
            "Uploading file...\n",
            "Completed upload: https://generativelanguage.googleapis.com/v1beta/files/z3z15cxgkqid\n",
            "Uploading file...\n",
            "Completed upload: https://generativelanguage.googleapis.com/v1beta/files/2fw1e9pv5uza\n",
            ".Making LLM inference request...\n",
            "Completed for video number: 11\n",
            "Uploading file...\n",
            "Completed upload: https://generativelanguage.googleapis.com/v1beta/files/elmc2ueyzo4g\n",
            "Uploading file...\n",
            "Completed upload: https://generativelanguage.googleapis.com/v1beta/files/n5zi2ilajagh\n",
            ".Making LLM inference request...\n",
            "Completed for video number: 12\n",
            "Uploading file...\n",
            "Completed upload: https://generativelanguage.googleapis.com/v1beta/files/k663j50e8ufs\n",
            "Uploading file...\n",
            "Completed upload: https://generativelanguage.googleapis.com/v1beta/files/uicsrga1jb2m\n",
            ".Making LLM inference request...\n",
            "Completed for video number: 13\n",
            "Uploading file...\n",
            "Completed upload: https://generativelanguage.googleapis.com/v1beta/files/lrypow8wllwv\n",
            "Uploading file...\n",
            "Completed upload: https://generativelanguage.googleapis.com/v1beta/files/s75yug3ei380\n",
            ".Making LLM inference request...\n",
            "Completed for video number: 14\n",
            "Uploading file...\n",
            "Completed upload: https://generativelanguage.googleapis.com/v1beta/files/snxw2bpem24j\n",
            "Uploading file...\n",
            "Completed upload: https://generativelanguage.googleapis.com/v1beta/files/7his2je7kktf\n",
            ".Making LLM inference request...\n",
            "Completed for video number: 15\n",
            "Uploading file...\n",
            "Completed upload: https://generativelanguage.googleapis.com/v1beta/files/ae7tovsccvfy\n",
            "Uploading file...\n",
            "Completed upload: https://generativelanguage.googleapis.com/v1beta/files/k0e9cup0ttjf\n",
            ".Making LLM inference request...\n",
            "No candidates returned for id: MA4I7SwfLEQ. Skipping.\n",
            "Uploading file...\n",
            "Completed upload: https://generativelanguage.googleapis.com/v1beta/files/kttic97l1cw6\n",
            "Uploading file...\n",
            "Completed upload: https://generativelanguage.googleapis.com/v1beta/files/vzkoko9yr3fq\n",
            "..Making LLM inference request...\n",
            "Completed for video number: 17\n",
            "Uploading file...\n",
            "Completed upload: https://generativelanguage.googleapis.com/v1beta/files/ftqmihyh8u8p\n",
            "Uploading file...\n",
            "Completed upload: https://generativelanguage.googleapis.com/v1beta/files/8g828xzvjmi\n",
            "..Making LLM inference request...\n",
            "No candidates returned for id: zz1xcDrqplM. Skipping.\n",
            "Uploading file...\n",
            "Completed upload: https://generativelanguage.googleapis.com/v1beta/files/ht3ocapvuzpj\n",
            "Uploading file...\n",
            "Completed upload: https://generativelanguage.googleapis.com/v1beta/files/8q0mmnwhitxu\n",
            ".Making LLM inference request...\n",
            "Completed for video number: 19\n",
            "Uploading file...\n",
            "Completed upload: https://generativelanguage.googleapis.com/v1beta/files/84dfsv3w44y8\n",
            "Uploading file...\n",
            "Completed upload: https://generativelanguage.googleapis.com/v1beta/files/ajomxjbkentu\n",
            ".Making LLM inference request...\n",
            "Completed for video number: 20\n"
          ]
        }
      ],
      "source": [
        "for i,v in enumerate(video_ids):\n",
        "\n",
        "  folder_path = f\"/content/drive/MyDrive/Safe Online Global/video-ads/{v}\"\n",
        "\n",
        "  ## find the folder for video\n",
        "  if not os.path.exists(folder_path):\n",
        "    print(\"Could not find folder for id:\",v)\n",
        "  else:\n",
        "\n",
        "      ## get the path for mp4 and mp3 files\n",
        "      video_mp4 = glob(f\"{folder_path}/*.mp4\")\n",
        "      audio_mp3 = glob(f\"{folder_path}/*.mp3\")\n",
        "\n",
        "      if len(video_mp4) == 0 or len(audio_mp3)==0:\n",
        "        print(\"Could not find video/audio for id:\",v)\n",
        "      else:\n",
        "        path_to_video = video_mp4[0]\n",
        "        path_to_audio = audio_mp3[0]\n",
        "\n",
        "        ## upload video\n",
        "        print(f\"Uploading file...\")\n",
        "        video_file = genai.upload_file(path=path_to_video)\n",
        "        print(f\"Completed upload: {video_file.uri}\")\n",
        "\n",
        "        ## upload audio\n",
        "        print(f\"Uploading file...\")\n",
        "        audio_file = genai.upload_file(path=path_to_audio)\n",
        "        print(f\"Completed upload: {audio_file.uri}\")\n",
        "\n",
        "        ## check if video has uploaded - wait for it to upload\n",
        "        while video_file.state.name == \"PROCESSING\":\n",
        "          print('.', end='')\n",
        "          time.sleep(10)\n",
        "          video_file = genai.get_file(video_file.name)\n",
        "\n",
        "        if video_file.state.name == \"FAILED\":\n",
        "          raise ValueError(video_file.state.name)\n",
        "\n",
        "        ### make inference\n",
        "        print(\"Making LLM inference request...\")\n",
        "\n",
        "        try:\n",
        "                response = model.generate_content(\n",
        "                    [audio_file, video_file, prompt],\n",
        "                    safety_settings={\n",
        "                        HarmCategory.HARM_CATEGORY_HATE_SPEECH: HarmBlockThreshold.BLOCK_NONE,\n",
        "                        HarmCategory.HARM_CATEGORY_HARASSMENT: HarmBlockThreshold.BLOCK_NONE,\n",
        "                        HarmCategory.HARM_CATEGORY_SEXUALLY_EXPLICIT: HarmBlockThreshold.BLOCK_NONE,\n",
        "                        HarmCategory.HARM_CATEGORY_DANGEROUS_CONTENT: HarmBlockThreshold.BLOCK_NONE\n",
        "                    }\n",
        "                )\n",
        "\n",
        "                # Try to write the response to a file\n",
        "                with open(f'/content/drive/MyDrive/Safe Online Global/gemini-trial-output/video-descriptions/video-desc-more/{v}.txt', 'w') as f:\n",
        "                    if response.candidates:\n",
        "                        f.write(response.text)\n",
        "                        print(\"Completed for video number:\", i)\n",
        "                    else:\n",
        "                        print(f\"No candidates returned for id: {v}. Skipping.\")\n",
        "\n",
        "        except ValueError as e:\n",
        "            print(f\"Error for id {v}: {e}. Moving to next video.\")\n",
        "\n",
        "            # Wait a bit to avoid exceeding rate limits\n",
        "        time.sleep(30)"
      ]
    }
  ],
  "metadata": {
    "colab": {
      "provenance": []
    },
    "kernelspec": {
      "display_name": "Python 3",
      "name": "python3"
    },
    "language_info": {
      "name": "python"
    }
  },
  "nbformat": 4,
  "nbformat_minor": 0
}